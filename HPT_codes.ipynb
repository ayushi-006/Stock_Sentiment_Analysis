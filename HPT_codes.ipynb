{
 "cells": [
  {
   "cell_type": "markdown",
   "metadata": {},
   "source": [
    "This file contains the code for Hyperparameter tuning of the models used in the analysis  "
   ]
  },
  {
   "cell_type": "markdown",
   "metadata": {},
   "source": [
    "# VADER ANALYSIS"
   ]
  },
  {
   "cell_type": "code",
   "execution_count": null,
   "metadata": {
    "vscode": {
     "languageId": "plaintext"
    }
   },
   "outputs": [],
   "source": [
    "import time\n",
    "import numpy as np\n",
    "from sklearn.metrics import accuracy_score\n",
    "\n",
    "# Start time\n",
    "start_time = time.time()\n",
    "\n",
    "# Define thresholds to try for sentiment classification\n",
    "thresholds = np.arange(-1.0, 1.0, 0.1)\n",
    "\n",
    "# Function to apply different thresholds and find the best one\n",
    "best_threshold = 0\n",
    "best_accuracy = 0\n",
    "\n",
    "for threshold in thresholds:\n",
    "    dt['Vader_Prediction'] = dt['Vader_Scores'].apply(lambda score: 1 if score >= threshold else -1)\n",
    "    accuracy = accuracy_score(dt['Text_sentiment_numeric'], dt['Vader_Prediction'])\n",
    "    \n",
    "    if accuracy > best_accuracy:\n",
    "        best_accuracy = accuracy\n",
    "        best_threshold = threshold\n",
    "\n",
    "# Final prediction with the best threshold\n",
    "dt['Vader_Prediction'] = dt['Vader_Scores'].apply(lambda score: 1 if score >= best_threshold else -1)\n",
    "\n",
    "# Print final accuracy\n",
    "print(f'Best Vader Accuracy: {round(best_accuracy * 100, 2)}% with threshold: {best_threshold}')\n",
    "\n",
    "# End time and print execution time\n",
    "end_time = time.time()\n",
    "execution_time = end_time - start_time\n",
    "print(f'Time taken for Vader tuning: {execution_time:.2f} seconds')"
   ]
  },
  {
   "attachments": {
    "image.png": {
     "image/png": "[encoded data removed]"
    }
   },
   "cell_type": "markdown",
   "metadata": {},
   "source": [
    "![image.png](attachment:image.png)\n"
   ]
  },
  {
   "cell_type": "markdown",
   "metadata": {},
   "source": [
    "# NAIVE BAYES"
   ]
  },
  {
   "cell_type": "code",
   "execution_count": null,
   "metadata": {
    "vscode": {
     "languageId": "plaintext"
    }
   },
   "outputs": [],
   "source": [
    "import time\n",
    "import numpy as np\n",
    "from sklearn.naive_bayes import ComplementNB\n",
    "from sklearn.metrics import accuracy_score\n",
    "\n",
    "# Start time\n",
    "start_time = time.time()\n",
    "\n",
    "# Define the range of alpha values to try for tuning\n",
    "alpha_values = np.arange(0.0, 1.1, 0.1)  # Alpha values from 0 to 1 with a step of 0.1\n",
    "\n",
    "# Initialize variables to track the best parameters and accuracy\n",
    "best_alpha = 0\n",
    "best_accuracy = 0\n",
    "\n",
    "# Loop through each alpha value\n",
    "for alpha in alpha_values:\n",
    "    CNB = ComplementNB(alpha=alpha)\n",
    "    CNB.fit(X_train, y_train)  # Train the model\n",
    "    predictions = CNB.predict(X_test)  # Make predictions\n",
    "    \n",
    "    accuracy = accuracy_score(y_test, predictions)  # Calculate accuracy\n",
    "    \n",
    "    if accuracy > best_accuracy:  # Update best accuracy and alpha if current accuracy is better\n",
    "        best_accuracy = accuracy\n",
    "        best_alpha = alpha\n",
    "\n",
    "# Print the best accuracy and corresponding alpha\n",
    "print(f'Best Naive Bayes Accuracy: {round(best_accuracy * 100, 2)}% with alpha: {best_alpha}')\n",
    "\n",
    "# End time and print execution time\n",
    "end_time = time.time()\n",
    "execution_time = end_time - start_time\n",
    "print(f'Time taken for Naive Bayes tuning: {execution_time:.2f} seconds')\n"
   ]
  },
  {
   "attachments": {
    "image.png": {
     "image/png": "[encoded data removed]"
    }
   },
   "cell_type": "markdown",
   "metadata": {},
   "source": [
    "![image.png](attachment:image.png)"
   ]
  },
  {
   "cell_type": "markdown",
   "metadata": {},
   "source": [
    "### mnb"
   ]
  },
  {
   "cell_type": "code",
   "execution_count": null,
   "metadata": {
    "vscode": {
     "languageId": "plaintext"
    }
   },
   "outputs": [],
   "source": [
    "\n",
    "# Start time\n",
    "start_time = time.time()\n",
    "\n",
    "# Define the parameter grid for RandomizedSearchCV\n",
    "param_dist = {\n",
    "    'alpha': np.arange(0.0, 1.1, 0.1),  # Alpha values from 0.0 to 1.0\n",
    "    'fit_prior': [True, False]          # Options for fit_prior\n",
    "}\n",
    "\n",
    "# Initialize MultinomialNB\n",
    "mnb = MultinomialNB()\n",
    "random_search = RandomizedSearchCV(mnb, param_distributions=param_dist, n_iter=10, scoring='accuracy', cv=5, random_state=42)\n",
    "\n",
    "# Fit RandomizedSearchCV\n",
    "random_search.fit(X_train, y_train)\n",
    "\n",
    "# Get the best model and parameters\n",
    "best_model = random_search.best_estimator_\n",
    "best_params = random_search.best_params_\n",
    "best_accuracy = random_search.best_score_\n",
    "\n",
    "# Print the best accuracy and parameters\n",
    "print(f'Best Multinomial Naive Bayes Accuracy: {round(best_accuracy * 100, 2)}%')\n",
    "print(f'Best parameters: {best_params}')\n",
    "\n",
    "# End time and print execution time\n",
    "end_time = time.time()\n",
    "execution_time = end_time - start_time\n",
    "print(f'Time taken for Multinomial Naive Bayes tuning: {execution_time:.2f} seconds')\n",
    "\n",
    "# Predict using the best model and evaluate on the test set\n",
    "predictions = best_model.predict(X_test)\n",
    "test_accuracy = accuracy_score(y_test, predictions)\n",
    "print(f'Test Accuracy: {round(test_accuracy * 100, 2)}%')\n",
    "\n",
    "# Optional: Print the classification report and confusion matrix\n",
    "print(classification_report(y_test, predictions))\n",
    "print(confusion_matrix(y_test, predictions))\n"
   ]
  },
  {
   "attachments": {
    "image.png": {
     "image/png": "[encoded data removed]"
    }
   },
   "cell_type": "markdown",
   "metadata": {},
   "source": [
    "![image.png](attachment:image.png)"
   ]
  },
  {
   "cell_type": "markdown",
   "metadata": {},
   "source": [
    "bnb"
   ]
  },
  {
   "cell_type": "code",
   "execution_count": null,
   "metadata": {
    "vscode": {
     "languageId": "plaintext"
    }
   },
   "outputs": [],
   "source": [
    "# Define the parameter grid for RandomizedSearchCV\n",
    "param_dist = {\n",
    "    'alpha': np.arange(0.0, 1.1, 0.1),  # Alpha values from 0.0 to 1.0\n",
    "    'binarize': np.arange(0.0, 1.1, 0.1),  # Binarize values from 0.0 to 1.0\n",
    "    'fit_prior': [True, False],          # Options for fit_prior\n",
    "    'class_prior': [None, [0.5, 0.5], [0.7, 0.3]]  # Example class priors\n",
    "}\n",
    "\n",
    "# Initialize BernoulliNB\n",
    "bnb = BernoulliNB()\n",
    "\n",
    "# Set up RandomizedSearchCV\n",
    "random_search = RandomizedSearchCV(bnb, param_distributions=param_dist, n_iter=10, scoring='accuracy', cv=5, random_state=42)\n",
    "\n",
    "# Fit RandomizedSearchCV\n",
    "random_search.fit(X_train, y_train)\n",
    "\n",
    "# Get the best model and parameters\n",
    "best_model = random_search.best_estimator_\n",
    "best_params = random_search.best_params_\n",
    "best_accuracy = random_search.best_score_\n",
    "\n",
    "# Print the best accuracy and parameters\n",
    "print(f'Best Bernoulli Naive Bayes Accuracy: {round(best_accuracy * 100, 2)}%')\n",
    "print(f'Best parameters: {best_params}')\n",
    "\n",
    "# End time and print execution time\n",
    "end_time = time.time()\n",
    "execution_time = end_time - start_time\n",
    "print(f'Time taken for Bernoulli Naive Bayes tuning: {execution_time:.2f} seconds')\n",
    "\n",
    "# Optional: Predict using the best model and evaluate on the test set\n",
    "predictions = best_model.predict(X_test)\n",
    "test_accuracy = accuracy_score(y_test, predictions)\n",
    "print(f'Test Accuracy: {round(test_accuracy * 100, 2)}%')\n"
   ]
  },
  {
   "attachments": {
    "image.png": {
     "image/png": "[encoded data removed]"
    }
   },
   "cell_type": "markdown",
   "metadata": {},
   "source": [
    "![image.png](attachment:image.png)\n",
    "\n"
   ]
  }
 ],
 "metadata": {
  "language_info": {
   "name": "python"
  }
 },
 "nbformat": 4,
 "nbformat_minor": 2
}
