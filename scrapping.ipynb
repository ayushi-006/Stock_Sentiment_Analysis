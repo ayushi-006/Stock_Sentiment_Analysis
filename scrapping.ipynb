{
 "cells": [
  {
   "cell_type": "markdown",
   "metadata": {},
   "source": [
    "# Stock Sentiment Analysis Using Reddit Data\n",
    "\n",
    "## Project Overview\n",
    "This project aims to gather and analyze sentiment from posts on the **r/wallstreetbets** subreddit, a community well-known for its discussions on stock trading."
   ]
  },
  {
   "cell_type": "markdown",
   "metadata": {},
   "source": [
    "> 1. I set up the **PRAW** Reddit API client to connect with Reddit, specifying my client ID, secret, and user agent.<br>\n",
    "> 2.  Defined the **r/wallstreetbets** subreddit and a search query to filter posts containing stock-related terms like *bullish*, *bearish*, *profit*, and *buy/sell signals*.<br>\n",
    "> 3.  Scraped up to 200 posts matching the query, collecting details like author name, post title, creation timestamp, score, comment count, and body text.<br>\n",
    "> 4.  Stored the collected data into a **pandas** DataFrame for further processing.<br>\n",
    "> 5.  Saved the DataFrame to a CSV file named **reddit_stock_sentiment.csv**, which I plan to use for sentiment analysis and stock movement prediction.<br>\n"
   ]
  },
  {
   "cell_type": "code",
   "execution_count": null,
   "metadata": {},
   "outputs": [],
   "source": [
    "# !pip install praw"
   ]
  },
  {
   "cell_type": "code",
   "execution_count": null,
   "metadata": {},
   "outputs": [],
   "source": [
    "import praw\n",
    "import pandas as pd\n",
    "\n",
    "# Set up Reddit API client\n",
    "reddit = praw.Reddit(\n",
    "    client_id='ngClrDpEttiwU4OGACnauw',  # Replace with your client ID\n",
    "    client_secret='Zz74oLLwBEz_davlZXjAYmSjvtdi0g',  # Replace with your client secret\n",
    "    user_agent=\"Pretty_Importance527\"  # Use a descriptive user agent\n",
    ")\n",
    "\n",
    "# Define the subreddit and search parameters\n",
    "subreddit = reddit.subreddit('wallstreetbets')  # You can change this subreddit\n",
    "search_query = '(bullish OR bearish OR profit OR loss OR stock OR \"buy signal\" OR \"sell signal\")'\n",
    "num_posts = 200  # Number of posts to scrape\n",
    "\n",
    "# Store the data\n",
    "posts = []\n",
    "for post in subreddit.search(search_query, limit=num_posts):\n",
    "    # Ensure post.author exists before trying to access post.author.name\n",
    "    author_name = post.author.name if post.author else \"Unknown\"\n",
    "\n",
    "    posts.append([ author_name,           # Username of the post author\n",
    "        post.created_utc,      # Post creation timestamp\n",
    "        post.score,            # Upvotes/downvotes score\n",
    "        post.num_comments,     # Number of comments\n",
    "        post.title,            # Title of the post\n",
    "        post.selftext,         # Body text of the post\n",
    "        post.url ])\n",
    "\n",
    "# Create a DataFrame\n",
    "df = pd.DataFrame(posts, columns=['Author', 'Created At', 'Score', 'Comment Count', 'Title', 'Selftext', 'URL'])\n",
    "\n",
    "# Save to CSV\n",
    "df.to_csv('reddit_stock_sentiment.csv', index=False)\n",
    "print(\"Data saved successfully!\")"
   ]
  }
 ],
 "metadata": {
  "language_info": {
   "name": "python"
  }
 },
 "nbformat": 4,
 "nbformat_minor": 2
}
